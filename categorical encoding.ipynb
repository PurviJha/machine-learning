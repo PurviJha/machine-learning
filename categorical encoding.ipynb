{
 "cells": [
  {
   "cell_type": "markdown",
   "metadata": {},
   "source": [
    "## ordinal Number encoding\n"
   ]
  },
  {
   "cell_type": "code",
   "execution_count": 1,
   "metadata": {},
   "outputs": [],
   "source": [
    "import datetime"
   ]
  },
  {
   "cell_type": "code",
   "execution_count": 4,
   "metadata": {},
   "outputs": [],
   "source": [
    "today_date=datetime.datetime.today()"
   ]
  },
  {
   "cell_type": "code",
   "execution_count": 5,
   "metadata": {},
   "outputs": [
    {
     "data": {
      "text/plain": [
       "datetime.datetime(2020, 7, 21, 14, 11, 16, 320175)"
      ]
     },
     "execution_count": 5,
     "metadata": {},
     "output_type": "execute_result"
    }
   ],
   "source": [
    "today_date"
   ]
  },
  {
   "cell_type": "code",
   "execution_count": 6,
   "metadata": {},
   "outputs": [
    {
     "data": {
      "text/plain": [
       "datetime.datetime(2020, 7, 18, 14, 11, 16, 320175)"
      ]
     },
     "execution_count": 6,
     "metadata": {},
     "output_type": "execute_result"
    }
   ],
   "source": [
    "#It give difference between 2 date time\n",
    "today_date-datetime.timedelta(3)"
   ]
  },
  {
   "cell_type": "code",
   "execution_count": 9,
   "metadata": {},
   "outputs": [],
   "source": [
    "days=[today_date-datetime.timedelta(x) for x in range(0,15)]"
   ]
  },
  {
   "cell_type": "code",
   "execution_count": 10,
   "metadata": {},
   "outputs": [],
   "source": [
    "import pandas as pd"
   ]
  },
  {
   "cell_type": "code",
   "execution_count": 13,
   "metadata": {},
   "outputs": [
    {
     "data": {
      "text/html": [
       "<div>\n",
       "<style scoped>\n",
       "    .dataframe tbody tr th:only-of-type {\n",
       "        vertical-align: middle;\n",
       "    }\n",
       "\n",
       "    .dataframe tbody tr th {\n",
       "        vertical-align: top;\n",
       "    }\n",
       "\n",
       "    .dataframe thead th {\n",
       "        text-align: right;\n",
       "    }\n",
       "</style>\n",
       "<table border=\"1\" class=\"dataframe\">\n",
       "  <thead>\n",
       "    <tr style=\"text-align: right;\">\n",
       "      <th></th>\n",
       "      <th>day</th>\n",
       "    </tr>\n",
       "  </thead>\n",
       "  <tbody>\n",
       "    <tr>\n",
       "      <th>0</th>\n",
       "      <td>2020-07-21 14:11:16.320175</td>\n",
       "    </tr>\n",
       "    <tr>\n",
       "      <th>1</th>\n",
       "      <td>2020-07-20 14:11:16.320175</td>\n",
       "    </tr>\n",
       "    <tr>\n",
       "      <th>2</th>\n",
       "      <td>2020-07-19 14:11:16.320175</td>\n",
       "    </tr>\n",
       "    <tr>\n",
       "      <th>3</th>\n",
       "      <td>2020-07-18 14:11:16.320175</td>\n",
       "    </tr>\n",
       "    <tr>\n",
       "      <th>4</th>\n",
       "      <td>2020-07-17 14:11:16.320175</td>\n",
       "    </tr>\n",
       "  </tbody>\n",
       "</table>\n",
       "</div>"
      ],
      "text/plain": [
       "                         day\n",
       "0 2020-07-21 14:11:16.320175\n",
       "1 2020-07-20 14:11:16.320175\n",
       "2 2020-07-19 14:11:16.320175\n",
       "3 2020-07-18 14:11:16.320175\n",
       "4 2020-07-17 14:11:16.320175"
      ]
     },
     "execution_count": 13,
     "metadata": {},
     "output_type": "execute_result"
    }
   ],
   "source": [
    "data=pd.DataFrame(days)\n",
    "data.columns=[\"day\"]\n",
    "data.head()"
   ]
  },
  {
   "cell_type": "code",
   "execution_count": 20,
   "metadata": {},
   "outputs": [
    {
     "data": {
      "text/html": [
       "<div>\n",
       "<style scoped>\n",
       "    .dataframe tbody tr th:only-of-type {\n",
       "        vertical-align: middle;\n",
       "    }\n",
       "\n",
       "    .dataframe tbody tr th {\n",
       "        vertical-align: top;\n",
       "    }\n",
       "\n",
       "    .dataframe thead th {\n",
       "        text-align: right;\n",
       "    }\n",
       "</style>\n",
       "<table border=\"1\" class=\"dataframe\">\n",
       "  <thead>\n",
       "    <tr style=\"text-align: right;\">\n",
       "      <th></th>\n",
       "      <th>day</th>\n",
       "      <th>weekday</th>\n",
       "    </tr>\n",
       "  </thead>\n",
       "  <tbody>\n",
       "    <tr>\n",
       "      <th>0</th>\n",
       "      <td>2020-07-21 14:11:16.320175</td>\n",
       "      <td>Tuesday</td>\n",
       "    </tr>\n",
       "    <tr>\n",
       "      <th>1</th>\n",
       "      <td>2020-07-20 14:11:16.320175</td>\n",
       "      <td>Monday</td>\n",
       "    </tr>\n",
       "    <tr>\n",
       "      <th>2</th>\n",
       "      <td>2020-07-19 14:11:16.320175</td>\n",
       "      <td>Sunday</td>\n",
       "    </tr>\n",
       "    <tr>\n",
       "      <th>3</th>\n",
       "      <td>2020-07-18 14:11:16.320175</td>\n",
       "      <td>Saturday</td>\n",
       "    </tr>\n",
       "    <tr>\n",
       "      <th>4</th>\n",
       "      <td>2020-07-17 14:11:16.320175</td>\n",
       "      <td>Friday</td>\n",
       "    </tr>\n",
       "  </tbody>\n",
       "</table>\n",
       "</div>"
      ],
      "text/plain": [
       "                         day   weekday\n",
       "0 2020-07-21 14:11:16.320175   Tuesday\n",
       "1 2020-07-20 14:11:16.320175    Monday\n",
       "2 2020-07-19 14:11:16.320175    Sunday\n",
       "3 2020-07-18 14:11:16.320175  Saturday\n",
       "4 2020-07-17 14:11:16.320175    Friday"
      ]
     },
     "execution_count": 20,
     "metadata": {},
     "output_type": "execute_result"
    }
   ],
   "source": [
    "data['weekday']=data['day'].dt.day_name()\n",
    "data.head()"
   ]
  },
  {
   "cell_type": "code",
   "execution_count": 21,
   "metadata": {},
   "outputs": [],
   "source": [
    "dict={'Monday':1,'Tuesday':2,'Wednesday':3,'Thrusday':4,'Friday':5,'Saturday':6,'Sunday':7}"
   ]
  },
  {
   "cell_type": "code",
   "execution_count": 26,
   "metadata": {},
   "outputs": [],
   "source": [
    "data['Weekday_ordinal']=data['weekday'].map(dict)"
   ]
  },
  {
   "cell_type": "code",
   "execution_count": 27,
   "metadata": {},
   "outputs": [
    {
     "data": {
      "text/html": [
       "<div>\n",
       "<style scoped>\n",
       "    .dataframe tbody tr th:only-of-type {\n",
       "        vertical-align: middle;\n",
       "    }\n",
       "\n",
       "    .dataframe tbody tr th {\n",
       "        vertical-align: top;\n",
       "    }\n",
       "\n",
       "    .dataframe thead th {\n",
       "        text-align: right;\n",
       "    }\n",
       "</style>\n",
       "<table border=\"1\" class=\"dataframe\">\n",
       "  <thead>\n",
       "    <tr style=\"text-align: right;\">\n",
       "      <th></th>\n",
       "      <th>day</th>\n",
       "      <th>weekday</th>\n",
       "      <th>Weekday_ordinal</th>\n",
       "    </tr>\n",
       "  </thead>\n",
       "  <tbody>\n",
       "    <tr>\n",
       "      <th>0</th>\n",
       "      <td>2020-07-21 14:11:16.320175</td>\n",
       "      <td>Tuesday</td>\n",
       "      <td>2.0</td>\n",
       "    </tr>\n",
       "    <tr>\n",
       "      <th>1</th>\n",
       "      <td>2020-07-20 14:11:16.320175</td>\n",
       "      <td>Monday</td>\n",
       "      <td>1.0</td>\n",
       "    </tr>\n",
       "    <tr>\n",
       "      <th>2</th>\n",
       "      <td>2020-07-19 14:11:16.320175</td>\n",
       "      <td>Sunday</td>\n",
       "      <td>7.0</td>\n",
       "    </tr>\n",
       "    <tr>\n",
       "      <th>3</th>\n",
       "      <td>2020-07-18 14:11:16.320175</td>\n",
       "      <td>Saturday</td>\n",
       "      <td>6.0</td>\n",
       "    </tr>\n",
       "    <tr>\n",
       "      <th>4</th>\n",
       "      <td>2020-07-17 14:11:16.320175</td>\n",
       "      <td>Friday</td>\n",
       "      <td>5.0</td>\n",
       "    </tr>\n",
       "  </tbody>\n",
       "</table>\n",
       "</div>"
      ],
      "text/plain": [
       "                         day   weekday  Weekday_ordinal\n",
       "0 2020-07-21 14:11:16.320175   Tuesday              2.0\n",
       "1 2020-07-20 14:11:16.320175    Monday              1.0\n",
       "2 2020-07-19 14:11:16.320175    Sunday              7.0\n",
       "3 2020-07-18 14:11:16.320175  Saturday              6.0\n",
       "4 2020-07-17 14:11:16.320175    Friday              5.0"
      ]
     },
     "execution_count": 27,
     "metadata": {},
     "output_type": "execute_result"
    }
   ],
   "source": [
    "data.head()"
   ]
  },
  {
   "cell_type": "markdown",
   "metadata": {},
   "source": [
    "## Count or Frequency Encoding"
   ]
  },
  {
   "cell_type": "code",
   "execution_count": 35,
   "metadata": {},
   "outputs": [
    {
     "data": {
      "text/html": [
       "<div>\n",
       "<style scoped>\n",
       "    .dataframe tbody tr th:only-of-type {\n",
       "        vertical-align: middle;\n",
       "    }\n",
       "\n",
       "    .dataframe tbody tr th {\n",
       "        vertical-align: top;\n",
       "    }\n",
       "\n",
       "    .dataframe thead th {\n",
       "        text-align: right;\n",
       "    }\n",
       "</style>\n",
       "<table border=\"1\" class=\"dataframe\">\n",
       "  <thead>\n",
       "    <tr style=\"text-align: right;\">\n",
       "      <th></th>\n",
       "      <th>0</th>\n",
       "      <th>1</th>\n",
       "      <th>2</th>\n",
       "      <th>3</th>\n",
       "      <th>4</th>\n",
       "      <th>5</th>\n",
       "      <th>6</th>\n",
       "      <th>7</th>\n",
       "      <th>8</th>\n",
       "      <th>9</th>\n",
       "      <th>10</th>\n",
       "      <th>11</th>\n",
       "      <th>12</th>\n",
       "      <th>13</th>\n",
       "      <th>14</th>\n",
       "    </tr>\n",
       "  </thead>\n",
       "  <tbody>\n",
       "    <tr>\n",
       "      <th>0</th>\n",
       "      <td>39</td>\n",
       "      <td>State-gov</td>\n",
       "      <td>77516</td>\n",
       "      <td>Bachelors</td>\n",
       "      <td>13</td>\n",
       "      <td>Never-married</td>\n",
       "      <td>Adm-clerical</td>\n",
       "      <td>Not-in-family</td>\n",
       "      <td>White</td>\n",
       "      <td>Male</td>\n",
       "      <td>2174</td>\n",
       "      <td>0</td>\n",
       "      <td>40</td>\n",
       "      <td>United-States</td>\n",
       "      <td>&lt;=50K</td>\n",
       "    </tr>\n",
       "    <tr>\n",
       "      <th>1</th>\n",
       "      <td>50</td>\n",
       "      <td>Self-emp-not-inc</td>\n",
       "      <td>83311</td>\n",
       "      <td>Bachelors</td>\n",
       "      <td>13</td>\n",
       "      <td>Married-civ-spouse</td>\n",
       "      <td>Exec-managerial</td>\n",
       "      <td>Husband</td>\n",
       "      <td>White</td>\n",
       "      <td>Male</td>\n",
       "      <td>0</td>\n",
       "      <td>0</td>\n",
       "      <td>13</td>\n",
       "      <td>United-States</td>\n",
       "      <td>&lt;=50K</td>\n",
       "    </tr>\n",
       "    <tr>\n",
       "      <th>2</th>\n",
       "      <td>38</td>\n",
       "      <td>Private</td>\n",
       "      <td>215646</td>\n",
       "      <td>HS-grad</td>\n",
       "      <td>9</td>\n",
       "      <td>Divorced</td>\n",
       "      <td>Handlers-cleaners</td>\n",
       "      <td>Not-in-family</td>\n",
       "      <td>White</td>\n",
       "      <td>Male</td>\n",
       "      <td>0</td>\n",
       "      <td>0</td>\n",
       "      <td>40</td>\n",
       "      <td>United-States</td>\n",
       "      <td>&lt;=50K</td>\n",
       "    </tr>\n",
       "    <tr>\n",
       "      <th>3</th>\n",
       "      <td>53</td>\n",
       "      <td>Private</td>\n",
       "      <td>234721</td>\n",
       "      <td>11th</td>\n",
       "      <td>7</td>\n",
       "      <td>Married-civ-spouse</td>\n",
       "      <td>Handlers-cleaners</td>\n",
       "      <td>Husband</td>\n",
       "      <td>Black</td>\n",
       "      <td>Male</td>\n",
       "      <td>0</td>\n",
       "      <td>0</td>\n",
       "      <td>40</td>\n",
       "      <td>United-States</td>\n",
       "      <td>&lt;=50K</td>\n",
       "    </tr>\n",
       "    <tr>\n",
       "      <th>4</th>\n",
       "      <td>28</td>\n",
       "      <td>Private</td>\n",
       "      <td>338409</td>\n",
       "      <td>Bachelors</td>\n",
       "      <td>13</td>\n",
       "      <td>Married-civ-spouse</td>\n",
       "      <td>Prof-specialty</td>\n",
       "      <td>Wife</td>\n",
       "      <td>Black</td>\n",
       "      <td>Female</td>\n",
       "      <td>0</td>\n",
       "      <td>0</td>\n",
       "      <td>40</td>\n",
       "      <td>Cuba</td>\n",
       "      <td>&lt;=50K</td>\n",
       "    </tr>\n",
       "  </tbody>\n",
       "</table>\n",
       "</div>"
      ],
      "text/plain": [
       "   0                  1       2           3   4                    5   \\\n",
       "0  39          State-gov   77516   Bachelors  13        Never-married   \n",
       "1  50   Self-emp-not-inc   83311   Bachelors  13   Married-civ-spouse   \n",
       "2  38            Private  215646     HS-grad   9             Divorced   \n",
       "3  53            Private  234721        11th   7   Married-civ-spouse   \n",
       "4  28            Private  338409   Bachelors  13   Married-civ-spouse   \n",
       "\n",
       "                   6               7       8        9     10  11  12  \\\n",
       "0        Adm-clerical   Not-in-family   White     Male  2174   0  40   \n",
       "1     Exec-managerial         Husband   White     Male     0   0  13   \n",
       "2   Handlers-cleaners   Not-in-family   White     Male     0   0  40   \n",
       "3   Handlers-cleaners         Husband   Black     Male     0   0  40   \n",
       "4      Prof-specialty            Wife   Black   Female     0   0  40   \n",
       "\n",
       "               13      14  \n",
       "0   United-States   <=50K  \n",
       "1   United-States   <=50K  \n",
       "2   United-States   <=50K  \n",
       "3   United-States   <=50K  \n",
       "4            Cuba   <=50K  "
      ]
     },
     "execution_count": 35,
     "metadata": {},
     "output_type": "execute_result"
    }
   ],
   "source": [
    "train_set = pd.read_csv('http://archive.ics.uci.edu/ml/machine-learning-databases/adult/adult.data' , header = None,index_col=None) \n",
    "train_set.head()"
   ]
  },
  {
   "cell_type": "code",
   "execution_count": 37,
   "metadata": {},
   "outputs": [],
   "source": [
    "columns=[1,3,5,6,7,8,9,13]\n",
    "data=train_set[columns]"
   ]
  },
  {
   "cell_type": "code",
   "execution_count": 38,
   "metadata": {},
   "outputs": [],
   "source": [
    "data.columns=['Employement','degree',\"martial status\",'designation','family job','race','sex','country']"
   ]
  },
  {
   "cell_type": "code",
   "execution_count": 39,
   "metadata": {},
   "outputs": [
    {
     "data": {
      "text/html": [
       "<div>\n",
       "<style scoped>\n",
       "    .dataframe tbody tr th:only-of-type {\n",
       "        vertical-align: middle;\n",
       "    }\n",
       "\n",
       "    .dataframe tbody tr th {\n",
       "        vertical-align: top;\n",
       "    }\n",
       "\n",
       "    .dataframe thead th {\n",
       "        text-align: right;\n",
       "    }\n",
       "</style>\n",
       "<table border=\"1\" class=\"dataframe\">\n",
       "  <thead>\n",
       "    <tr style=\"text-align: right;\">\n",
       "      <th></th>\n",
       "      <th>Employement</th>\n",
       "      <th>degree</th>\n",
       "      <th>martial status</th>\n",
       "      <th>designation</th>\n",
       "      <th>family job</th>\n",
       "      <th>race</th>\n",
       "      <th>sex</th>\n",
       "      <th>country</th>\n",
       "    </tr>\n",
       "  </thead>\n",
       "  <tbody>\n",
       "    <tr>\n",
       "      <th>0</th>\n",
       "      <td>State-gov</td>\n",
       "      <td>Bachelors</td>\n",
       "      <td>Never-married</td>\n",
       "      <td>Adm-clerical</td>\n",
       "      <td>Not-in-family</td>\n",
       "      <td>White</td>\n",
       "      <td>Male</td>\n",
       "      <td>United-States</td>\n",
       "    </tr>\n",
       "    <tr>\n",
       "      <th>1</th>\n",
       "      <td>Self-emp-not-inc</td>\n",
       "      <td>Bachelors</td>\n",
       "      <td>Married-civ-spouse</td>\n",
       "      <td>Exec-managerial</td>\n",
       "      <td>Husband</td>\n",
       "      <td>White</td>\n",
       "      <td>Male</td>\n",
       "      <td>United-States</td>\n",
       "    </tr>\n",
       "    <tr>\n",
       "      <th>2</th>\n",
       "      <td>Private</td>\n",
       "      <td>HS-grad</td>\n",
       "      <td>Divorced</td>\n",
       "      <td>Handlers-cleaners</td>\n",
       "      <td>Not-in-family</td>\n",
       "      <td>White</td>\n",
       "      <td>Male</td>\n",
       "      <td>United-States</td>\n",
       "    </tr>\n",
       "    <tr>\n",
       "      <th>3</th>\n",
       "      <td>Private</td>\n",
       "      <td>11th</td>\n",
       "      <td>Married-civ-spouse</td>\n",
       "      <td>Handlers-cleaners</td>\n",
       "      <td>Husband</td>\n",
       "      <td>Black</td>\n",
       "      <td>Male</td>\n",
       "      <td>United-States</td>\n",
       "    </tr>\n",
       "    <tr>\n",
       "      <th>4</th>\n",
       "      <td>Private</td>\n",
       "      <td>Bachelors</td>\n",
       "      <td>Married-civ-spouse</td>\n",
       "      <td>Prof-specialty</td>\n",
       "      <td>Wife</td>\n",
       "      <td>Black</td>\n",
       "      <td>Female</td>\n",
       "      <td>Cuba</td>\n",
       "    </tr>\n",
       "  </tbody>\n",
       "</table>\n",
       "</div>"
      ],
      "text/plain": [
       "         Employement      degree       martial status         designation  \\\n",
       "0          State-gov   Bachelors        Never-married        Adm-clerical   \n",
       "1   Self-emp-not-inc   Bachelors   Married-civ-spouse     Exec-managerial   \n",
       "2            Private     HS-grad             Divorced   Handlers-cleaners   \n",
       "3            Private        11th   Married-civ-spouse   Handlers-cleaners   \n",
       "4            Private   Bachelors   Married-civ-spouse      Prof-specialty   \n",
       "\n",
       "       family job    race      sex         country  \n",
       "0   Not-in-family   White     Male   United-States  \n",
       "1         Husband   White     Male   United-States  \n",
       "2   Not-in-family   White     Male   United-States  \n",
       "3         Husband   Black     Male   United-States  \n",
       "4            Wife   Black   Female            Cuba  "
      ]
     },
     "execution_count": 39,
     "metadata": {},
     "output_type": "execute_result"
    }
   ],
   "source": [
    "data.head()"
   ]
  },
  {
   "cell_type": "code",
   "execution_count": 41,
   "metadata": {},
   "outputs": [
    {
     "name": "stdout",
     "output_type": "stream",
     "text": [
      "Employement : 9\n",
      "degree : 16\n",
      "martial status : 7\n",
      "designation : 15\n",
      "family job : 6\n",
      "race : 5\n",
      "sex : 2\n",
      "country : 42\n"
     ]
    }
   ],
   "source": [
    "for fet in data.columns[:]:\n",
    "    print(fet,':',len(data[fet].unique()))\n",
    "    "
   ]
  },
  {
   "cell_type": "code",
   "execution_count": 44,
   "metadata": {},
   "outputs": [],
   "source": [
    "d=data.country.value_counts().to_dict()"
   ]
  },
  {
   "cell_type": "code",
   "execution_count": 48,
   "metadata": {},
   "outputs": [
    {
     "name": "stderr",
     "output_type": "stream",
     "text": [
      "C:\\ProgramData\\Anaconda3\\lib\\site-packages\\ipykernel_launcher.py:1: SettingWithCopyWarning: \n",
      "A value is trying to be set on a copy of a slice from a DataFrame.\n",
      "Try using .loc[row_indexer,col_indexer] = value instead\n",
      "\n",
      "See the caveats in the documentation: https://pandas.pydata.org/pandas-docs/stable/user_guide/indexing.html#returning-a-view-versus-a-copy\n",
      "  \"\"\"Entry point for launching an IPython kernel.\n"
     ]
    }
   ],
   "source": [
    "data['country']=data['country'].map(d)"
   ]
  },
  {
   "cell_type": "code",
   "execution_count": 49,
   "metadata": {},
   "outputs": [
    {
     "data": {
      "text/html": [
       "<div>\n",
       "<style scoped>\n",
       "    .dataframe tbody tr th:only-of-type {\n",
       "        vertical-align: middle;\n",
       "    }\n",
       "\n",
       "    .dataframe tbody tr th {\n",
       "        vertical-align: top;\n",
       "    }\n",
       "\n",
       "    .dataframe thead th {\n",
       "        text-align: right;\n",
       "    }\n",
       "</style>\n",
       "<table border=\"1\" class=\"dataframe\">\n",
       "  <thead>\n",
       "    <tr style=\"text-align: right;\">\n",
       "      <th></th>\n",
       "      <th>Employement</th>\n",
       "      <th>degree</th>\n",
       "      <th>martial status</th>\n",
       "      <th>designation</th>\n",
       "      <th>family job</th>\n",
       "      <th>race</th>\n",
       "      <th>sex</th>\n",
       "      <th>country</th>\n",
       "    </tr>\n",
       "  </thead>\n",
       "  <tbody>\n",
       "    <tr>\n",
       "      <th>0</th>\n",
       "      <td>State-gov</td>\n",
       "      <td>Bachelors</td>\n",
       "      <td>Never-married</td>\n",
       "      <td>Adm-clerical</td>\n",
       "      <td>Not-in-family</td>\n",
       "      <td>White</td>\n",
       "      <td>Male</td>\n",
       "      <td>29170</td>\n",
       "    </tr>\n",
       "    <tr>\n",
       "      <th>1</th>\n",
       "      <td>Self-emp-not-inc</td>\n",
       "      <td>Bachelors</td>\n",
       "      <td>Married-civ-spouse</td>\n",
       "      <td>Exec-managerial</td>\n",
       "      <td>Husband</td>\n",
       "      <td>White</td>\n",
       "      <td>Male</td>\n",
       "      <td>29170</td>\n",
       "    </tr>\n",
       "    <tr>\n",
       "      <th>2</th>\n",
       "      <td>Private</td>\n",
       "      <td>HS-grad</td>\n",
       "      <td>Divorced</td>\n",
       "      <td>Handlers-cleaners</td>\n",
       "      <td>Not-in-family</td>\n",
       "      <td>White</td>\n",
       "      <td>Male</td>\n",
       "      <td>29170</td>\n",
       "    </tr>\n",
       "    <tr>\n",
       "      <th>3</th>\n",
       "      <td>Private</td>\n",
       "      <td>11th</td>\n",
       "      <td>Married-civ-spouse</td>\n",
       "      <td>Handlers-cleaners</td>\n",
       "      <td>Husband</td>\n",
       "      <td>Black</td>\n",
       "      <td>Male</td>\n",
       "      <td>29170</td>\n",
       "    </tr>\n",
       "    <tr>\n",
       "      <th>4</th>\n",
       "      <td>Private</td>\n",
       "      <td>Bachelors</td>\n",
       "      <td>Married-civ-spouse</td>\n",
       "      <td>Prof-specialty</td>\n",
       "      <td>Wife</td>\n",
       "      <td>Black</td>\n",
       "      <td>Female</td>\n",
       "      <td>95</td>\n",
       "    </tr>\n",
       "  </tbody>\n",
       "</table>\n",
       "</div>"
      ],
      "text/plain": [
       "         Employement      degree       martial status         designation  \\\n",
       "0          State-gov   Bachelors        Never-married        Adm-clerical   \n",
       "1   Self-emp-not-inc   Bachelors   Married-civ-spouse     Exec-managerial   \n",
       "2            Private     HS-grad             Divorced   Handlers-cleaners   \n",
       "3            Private        11th   Married-civ-spouse   Handlers-cleaners   \n",
       "4            Private   Bachelors   Married-civ-spouse      Prof-specialty   \n",
       "\n",
       "       family job    race      sex  country  \n",
       "0   Not-in-family   White     Male    29170  \n",
       "1         Husband   White     Male    29170  \n",
       "2   Not-in-family   White     Male    29170  \n",
       "3         Husband   Black     Male    29170  \n",
       "4            Wife   Black   Female       95  "
      ]
     },
     "execution_count": 49,
     "metadata": {},
     "output_type": "execute_result"
    }
   ],
   "source": [
    "data.head()"
   ]
  },
  {
   "cell_type": "markdown",
   "metadata": {},
   "source": [
    "### Advantages\n",
    "1. Easy to use\n",
    "2. Not increasing any feature space\n",
    "### Disadvantages\n",
    "1. it will not handle if two countries have same frequency,it will provide same weight"
   ]
  },
  {
   "cell_type": "markdown",
   "metadata": {},
   "source": [
    "# Target guided ordinal encoding\n",
    "1. ordering the label according to target\n",
    "2. Replace the label by the joint probebility of being 1 or 0"
   ]
  },
  {
   "cell_type": "code",
   "execution_count": 53,
   "metadata": {},
   "outputs": [],
   "source": [
    "titanic=pd.read_csv('titanic.csv',usecols=['Survived','Cabin'])"
   ]
  },
  {
   "cell_type": "code",
   "execution_count": 54,
   "metadata": {},
   "outputs": [],
   "source": [
    "titanic['Cabin'].fillna(\"missing\",inplace=True)"
   ]
  },
  {
   "cell_type": "code",
   "execution_count": 55,
   "metadata": {},
   "outputs": [
    {
     "data": {
      "text/html": [
       "<div>\n",
       "<style scoped>\n",
       "    .dataframe tbody tr th:only-of-type {\n",
       "        vertical-align: middle;\n",
       "    }\n",
       "\n",
       "    .dataframe tbody tr th {\n",
       "        vertical-align: top;\n",
       "    }\n",
       "\n",
       "    .dataframe thead th {\n",
       "        text-align: right;\n",
       "    }\n",
       "</style>\n",
       "<table border=\"1\" class=\"dataframe\">\n",
       "  <thead>\n",
       "    <tr style=\"text-align: right;\">\n",
       "      <th></th>\n",
       "      <th>Survived</th>\n",
       "      <th>Cabin</th>\n",
       "    </tr>\n",
       "  </thead>\n",
       "  <tbody>\n",
       "    <tr>\n",
       "      <th>0</th>\n",
       "      <td>0</td>\n",
       "      <td>missing</td>\n",
       "    </tr>\n",
       "    <tr>\n",
       "      <th>1</th>\n",
       "      <td>1</td>\n",
       "      <td>C85</td>\n",
       "    </tr>\n",
       "    <tr>\n",
       "      <th>2</th>\n",
       "      <td>1</td>\n",
       "      <td>missing</td>\n",
       "    </tr>\n",
       "    <tr>\n",
       "      <th>3</th>\n",
       "      <td>1</td>\n",
       "      <td>C123</td>\n",
       "    </tr>\n",
       "    <tr>\n",
       "      <th>4</th>\n",
       "      <td>0</td>\n",
       "      <td>missing</td>\n",
       "    </tr>\n",
       "  </tbody>\n",
       "</table>\n",
       "</div>"
      ],
      "text/plain": [
       "   Survived    Cabin\n",
       "0         0  missing\n",
       "1         1      C85\n",
       "2         1  missing\n",
       "3         1     C123\n",
       "4         0  missing"
      ]
     },
     "execution_count": 55,
     "metadata": {},
     "output_type": "execute_result"
    }
   ],
   "source": [
    "titanic.head()"
   ]
  },
  {
   "cell_type": "code",
   "execution_count": 58,
   "metadata": {},
   "outputs": [
    {
     "data": {
      "text/plain": [
       "array(['missing', 'C85', 'missing', 'C123', 'missing', 'missing', 'E46',\n",
       "       'missing', 'missing', 'missing', 'G6', 'C103', 'missing',\n",
       "       'missing', 'missing', 'missing', 'missing', 'missing', 'missing',\n",
       "       'missing', 'missing', 'D56', 'missing', 'A6', 'missing', 'missing',\n",
       "       'missing', 'C23 C25 C27', 'missing', 'missing', 'missing', 'B78',\n",
       "       'missing', 'missing', 'missing', 'missing', 'missing', 'missing',\n",
       "       'missing', 'missing', 'missing', 'missing', 'missing', 'missing',\n",
       "       'missing', 'missing', 'missing', 'missing', 'missing', 'missing',\n",
       "       'missing', 'missing', 'D33', 'missing', 'B30', 'C52', 'missing',\n",
       "       'missing', 'missing', 'missing', 'missing', 'B28', 'C83',\n",
       "       'missing', 'missing', 'missing', 'F33', 'missing', 'missing',\n",
       "       'missing', 'missing', 'missing', 'missing', 'missing', 'missing',\n",
       "       'F G73', 'missing', 'missing', 'missing', 'missing', 'missing',\n",
       "       'missing', 'missing', 'missing', 'missing', 'missing', 'missing',\n",
       "       'missing', 'C23 C25 C27', 'missing', 'missing', 'missing', 'E31',\n",
       "       'missing', 'missing', 'missing', 'A5', 'D10 D12', 'missing',\n",
       "       'missing', 'missing', 'missing', 'D26', 'missing', 'missing',\n",
       "       'missing', 'missing', 'missing', 'missing', 'missing', 'C110',\n",
       "       'missing', 'missing', 'missing', 'missing', 'missing', 'missing',\n",
       "       'missing', 'B58 B60', 'missing', 'missing', 'missing', 'missing',\n",
       "       'E101', 'D26', 'missing', 'missing', 'missing', 'F E69', 'missing',\n",
       "       'missing', 'missing', 'missing', 'missing', 'missing', 'missing',\n",
       "       'D47', 'C123', 'missing', 'B86', 'missing', 'missing', 'missing',\n",
       "       'missing', 'missing', 'missing', 'missing', 'missing', 'F2',\n",
       "       'missing', 'missing', 'C2', 'missing', 'missing', 'missing',\n",
       "       'missing', 'missing', 'missing', 'missing', 'missing', 'missing',\n",
       "       'missing', 'missing', 'missing', 'missing', 'missing', 'E33',\n",
       "       'missing', 'missing', 'missing', 'B19', 'missing', 'missing',\n",
       "       'missing', 'A7', 'missing', 'missing', 'C49', 'missing', 'missing',\n",
       "       'missing', 'missing', 'missing', 'F4', 'missing', 'A32', 'missing',\n",
       "       'missing', 'missing', 'missing', 'missing', 'missing', 'missing',\n",
       "       'F2', 'B4', 'B80', 'missing', 'missing', 'missing', 'missing',\n",
       "       'missing', 'missing', 'missing', 'missing', 'missing', 'G6',\n",
       "       'missing', 'missing', 'missing', 'A31', 'missing', 'missing',\n",
       "       'missing', 'missing', 'missing', 'D36', 'missing', 'missing',\n",
       "       'D15', 'missing', 'missing', 'missing', 'missing', 'missing',\n",
       "       'C93', 'missing', 'missing', 'missing', 'missing', 'missing',\n",
       "       'C83', 'missing', 'missing', 'missing', 'missing', 'missing',\n",
       "       'missing', 'missing', 'missing', 'missing', 'missing', 'missing',\n",
       "       'missing', 'missing', 'missing', 'C78', 'missing', 'missing',\n",
       "       'D35', 'missing', 'missing', 'G6', 'C87', 'missing', 'missing',\n",
       "       'missing', 'missing', 'B77', 'missing', 'missing', 'missing',\n",
       "       'missing', 'E67', 'B94', 'missing', 'missing', 'missing',\n",
       "       'missing', 'C125', 'C99', 'missing', 'missing', 'missing', 'C118',\n",
       "       'missing', 'D7', 'missing', 'missing', 'missing', 'missing',\n",
       "       'missing', 'missing', 'missing', 'missing', 'A19', 'missing',\n",
       "       'missing', 'missing', 'missing', 'missing', 'missing', 'B49', 'D',\n",
       "       'missing', 'missing', 'missing', 'missing', 'C22 C26', 'C106',\n",
       "       'B58 B60', 'missing', 'missing', 'missing', 'E101', 'missing',\n",
       "       'C22 C26', 'missing', 'C65', 'missing', 'E36', 'C54',\n",
       "       'B57 B59 B63 B66', 'missing', 'missing', 'missing', 'missing',\n",
       "       'missing', 'missing', 'C7', 'E34', 'missing', 'missing', 'missing',\n",
       "       'missing', 'missing', 'C32', 'missing', 'D', 'missing', 'B18',\n",
       "       'missing', 'C124', 'C91', 'missing', 'missing', 'missing', 'C2',\n",
       "       'E40', 'missing', 'T', 'F2', 'C23 C25 C27', 'missing', 'missing',\n",
       "       'missing', 'F33', 'missing', 'missing', 'missing', 'missing',\n",
       "       'missing', 'C128', 'missing', 'missing', 'missing', 'missing',\n",
       "       'E33', 'missing', 'missing', 'missing', 'missing', 'missing',\n",
       "       'missing', 'missing', 'missing', 'missing', 'D37', 'missing',\n",
       "       'missing', 'B35', 'E50', 'missing', 'missing', 'missing',\n",
       "       'missing', 'missing', 'missing', 'C82', 'missing', 'missing',\n",
       "       'missing', 'missing', 'missing', 'missing', 'missing', 'missing',\n",
       "       'missing', 'missing', 'missing', 'missing', 'B96 B98', 'missing',\n",
       "       'missing', 'D36', 'G6', 'missing', 'missing', 'missing', 'missing',\n",
       "       'missing', 'missing', 'missing', 'missing', 'missing', 'missing',\n",
       "       'missing', 'missing', 'missing', 'missing', 'missing', 'missing',\n",
       "       'missing', 'C78', 'missing', 'missing', 'missing', 'missing',\n",
       "       'missing', 'missing', 'missing', 'missing', 'missing', 'missing',\n",
       "       'missing', 'missing', 'missing', 'missing', 'missing', 'missing',\n",
       "       'E10', 'C52', 'missing', 'missing', 'missing', 'E44', 'B96 B98',\n",
       "       'missing', 'missing', 'C23 C25 C27', 'missing', 'missing',\n",
       "       'missing', 'missing', 'missing', 'missing', 'A34', 'missing',\n",
       "       'missing', 'missing', 'C104', 'missing', 'missing', 'C111', 'C92',\n",
       "       'missing', 'missing', 'E38', 'D21', 'missing', 'missing', 'E12',\n",
       "       'missing', 'E63', 'missing', 'missing', 'missing', 'missing',\n",
       "       'missing', 'missing', 'missing', 'missing', 'missing', 'missing',\n",
       "       'D', 'missing', 'A14', 'missing', 'missing', 'missing', 'missing',\n",
       "       'missing', 'missing', 'missing', 'missing', 'B49', 'missing',\n",
       "       'C93', 'B37', 'missing', 'missing', 'missing', 'missing', 'C30',\n",
       "       'missing', 'missing', 'missing', 'D20', 'missing', 'C22 C26',\n",
       "       'missing', 'missing', 'missing', 'missing', 'missing', 'B79',\n",
       "       'C65', 'missing', 'missing', 'missing', 'missing', 'missing',\n",
       "       'missing', 'E25', 'missing', 'missing', 'D46', 'F33', 'missing',\n",
       "       'missing', 'missing', 'B73', 'missing', 'missing', 'B18',\n",
       "       'missing', 'missing', 'missing', 'C95', 'missing', 'missing',\n",
       "       'missing', 'missing', 'missing', 'missing', 'missing', 'missing',\n",
       "       'B38', 'missing', 'missing', 'B39', 'B22', 'missing', 'missing',\n",
       "       'missing', 'C86', 'missing', 'missing', 'missing', 'missing',\n",
       "       'missing', 'C70', 'missing', 'missing', 'missing', 'missing',\n",
       "       'missing', 'A16', 'missing', 'E67', 'missing', 'missing',\n",
       "       'missing', 'missing', 'missing', 'missing', 'missing', 'missing',\n",
       "       'missing', 'missing', 'missing', 'missing', 'C101', 'E25',\n",
       "       'missing', 'missing', 'missing', 'missing', 'E44', 'missing',\n",
       "       'missing', 'missing', 'C68', 'missing', 'A10', 'missing', 'E68',\n",
       "       'missing', 'B41', 'missing', 'missing', 'missing', 'D20',\n",
       "       'missing', 'missing', 'missing', 'missing', 'missing', 'missing',\n",
       "       'missing', 'A20', 'missing', 'missing', 'missing', 'missing',\n",
       "       'missing', 'missing', 'missing', 'missing', 'missing', 'C125',\n",
       "       'missing', 'missing', 'missing', 'missing', 'missing', 'missing',\n",
       "       'missing', 'missing', 'F4', 'missing', 'missing', 'D19', 'missing',\n",
       "       'missing', 'missing', 'D50', 'missing', 'D9', 'missing', 'missing',\n",
       "       'A23', 'missing', 'B50', 'missing', 'missing', 'missing',\n",
       "       'missing', 'missing', 'missing', 'missing', 'missing', 'B35',\n",
       "       'missing', 'missing', 'missing', 'D33', 'missing', 'A26',\n",
       "       'missing', 'missing', 'missing', 'missing', 'missing', 'missing',\n",
       "       'missing', 'missing', 'missing', 'missing', 'missing', 'D48',\n",
       "       'missing', 'missing', 'E58', 'missing', 'missing', 'missing',\n",
       "       'missing', 'missing', 'missing', 'C126', 'missing', 'B71',\n",
       "       'missing', 'missing', 'missing', 'missing', 'missing', 'missing',\n",
       "       'missing', 'B51 B53 B55', 'missing', 'D49', 'missing', 'missing',\n",
       "       'missing', 'missing', 'missing', 'missing', 'missing', 'B5', 'B20',\n",
       "       'missing', 'missing', 'missing', 'missing', 'missing', 'missing',\n",
       "       'missing', 'C68', 'F G63', 'C62 C64', 'E24', 'missing', 'missing',\n",
       "       'missing', 'missing', 'missing', 'E24', 'missing', 'missing',\n",
       "       'C90', 'C124', 'C126', 'missing', 'missing', 'F G73', 'C45',\n",
       "       'E101', 'missing', 'missing', 'missing', 'missing', 'missing',\n",
       "       'missing', 'E8', 'missing', 'missing', 'missing', 'missing',\n",
       "       'missing', 'B5', 'missing', 'missing', 'missing', 'missing',\n",
       "       'missing', 'missing', 'B101', 'missing', 'missing', 'D45', 'C46',\n",
       "       'B57 B59 B63 B66', 'missing', 'missing', 'B22', 'missing',\n",
       "       'missing', 'D30', 'missing', 'missing', 'E121', 'missing',\n",
       "       'missing', 'missing', 'missing', 'missing', 'missing', 'missing',\n",
       "       'B77', 'missing', 'missing', 'missing', 'B96 B98', 'missing',\n",
       "       'D11', 'missing', 'missing', 'missing', 'missing', 'missing',\n",
       "       'missing', 'E77', 'missing', 'missing', 'missing', 'F38',\n",
       "       'missing', 'missing', 'B3', 'missing', 'B20', 'D6', 'missing',\n",
       "       'missing', 'missing', 'missing', 'missing', 'missing', 'B82 B84',\n",
       "       'missing', 'missing', 'missing', 'missing', 'missing', 'missing',\n",
       "       'D17', 'missing', 'missing', 'missing', 'missing', 'missing',\n",
       "       'B96 B98', 'missing', 'missing', 'missing', 'A36', 'missing',\n",
       "       'missing', 'E8', 'missing', 'missing', 'missing', 'missing',\n",
       "       'missing', 'B102', 'missing', 'missing', 'missing', 'missing',\n",
       "       'B69', 'missing', 'missing', 'E121', 'missing', 'missing',\n",
       "       'missing', 'missing', 'missing', 'B28', 'missing', 'missing',\n",
       "       'missing', 'missing', 'missing', 'E49', 'missing', 'missing',\n",
       "       'missing', 'C47', 'missing', 'missing', 'missing', 'missing',\n",
       "       'missing', 'missing', 'missing', 'missing', 'missing', 'C92',\n",
       "       'missing', 'missing', 'missing', 'D28', 'missing', 'missing',\n",
       "       'missing', 'E17', 'missing', 'missing', 'missing', 'missing',\n",
       "       'D17', 'missing', 'missing', 'missing', 'missing', 'A24',\n",
       "       'missing', 'missing', 'missing', 'D35', 'B51 B53 B55', 'missing',\n",
       "       'missing', 'missing', 'missing', 'missing', 'missing', 'C50',\n",
       "       'missing', 'missing', 'missing', 'missing', 'missing', 'missing',\n",
       "       'missing', 'B42', 'missing', 'C148', 'missing'], dtype=object)"
      ]
     },
     "execution_count": 58,
     "metadata": {},
     "output_type": "execute_result"
    }
   ],
   "source": [
    "titanic['Cabin'].values\n"
   ]
  },
  {
   "cell_type": "code",
   "execution_count": 75,
   "metadata": {},
   "outputs": [
    {
     "name": "stdout",
     "output_type": "stream",
     "text": [
      "['m', 'C', 'm', 'C', 'm', 'm', 'E', 'm', 'm', 'm', 'G', 'C', 'm', 'm', 'm', 'm', 'm', 'm', 'm', 'm', 'm', 'D', 'm', 'A', 'm', 'm', 'm', 'C', 'm', 'm', 'm', 'B', 'm', 'm', 'm', 'm', 'm', 'm', 'm', 'm', 'm', 'm', 'm', 'm', 'm', 'm', 'm', 'm', 'm', 'm', 'm', 'm', 'D', 'm', 'B', 'C', 'm', 'm', 'm', 'm', 'm', 'B', 'C', 'm', 'm', 'm', 'F', 'm', 'm', 'm', 'm', 'm', 'm', 'm', 'm', 'F', 'm', 'm', 'm', 'm', 'm', 'm', 'm', 'm', 'm', 'm', 'm', 'm', 'C', 'm', 'm', 'm', 'E', 'm', 'm', 'm', 'A', 'D', 'm', 'm', 'm', 'm', 'D', 'm', 'm', 'm', 'm', 'm', 'm', 'm', 'C', 'm', 'm', 'm', 'm', 'm', 'm', 'm', 'B', 'm', 'm', 'm', 'm', 'E', 'D', 'm', 'm', 'm', 'F', 'm', 'm', 'm', 'm', 'm', 'm', 'm', 'D', 'C', 'm', 'B', 'm', 'm', 'm', 'm', 'm', 'm', 'm', 'm', 'F', 'm', 'm', 'C', 'm', 'm', 'm', 'm', 'm', 'm', 'm', 'm', 'm', 'm', 'm', 'm', 'm', 'm', 'E', 'm', 'm', 'm', 'B', 'm', 'm', 'm', 'A', 'm', 'm', 'C', 'm', 'm', 'm', 'm', 'm', 'F', 'm', 'A', 'm', 'm', 'm', 'm', 'm', 'm', 'm', 'F', 'B', 'B', 'm', 'm', 'm', 'm', 'm', 'm', 'm', 'm', 'm', 'G', 'm', 'm', 'm', 'A', 'm', 'm', 'm', 'm', 'm', 'D', 'm', 'm', 'D', 'm', 'm', 'm', 'm', 'm', 'C', 'm', 'm', 'm', 'm', 'm', 'C', 'm', 'm', 'm', 'm', 'm', 'm', 'm', 'm', 'm', 'm', 'm', 'm', 'm', 'm', 'C', 'm', 'm', 'D', 'm', 'm', 'G', 'C', 'm', 'm', 'm', 'm', 'B', 'm', 'm', 'm', 'm', 'E', 'B', 'm', 'm', 'm', 'm', 'C', 'C', 'm', 'm', 'm', 'C', 'm', 'D', 'm', 'm', 'm', 'm', 'm', 'm', 'm', 'm', 'A', 'm', 'm', 'm', 'm', 'm', 'm', 'B', 'D', 'm', 'm', 'm', 'm', 'C', 'C', 'B', 'm', 'm', 'm', 'E', 'm', 'C', 'm', 'C', 'm', 'E', 'C', 'B', 'm', 'm', 'm', 'm', 'm', 'm', 'C', 'E', 'm', 'm', 'm', 'm', 'm', 'C', 'm', 'D', 'm', 'B', 'm', 'C', 'C', 'm', 'm', 'm', 'C', 'E', 'm', 'T', 'F', 'C', 'm', 'm', 'm', 'F', 'm', 'm', 'm', 'm', 'm', 'C', 'm', 'm', 'm', 'm', 'E', 'm', 'm', 'm', 'm', 'm', 'm', 'm', 'm', 'm', 'D', 'm', 'm', 'B', 'E', 'm', 'm', 'm', 'm', 'm', 'm', 'C', 'm', 'm', 'm', 'm', 'm', 'm', 'm', 'm', 'm', 'm', 'm', 'm', 'B', 'm', 'm', 'D', 'G', 'm', 'm', 'm', 'm', 'm', 'm', 'm', 'm', 'm', 'm', 'm', 'm', 'm', 'm', 'm', 'm', 'm', 'C', 'm', 'm', 'm', 'm', 'm', 'm', 'm', 'm', 'm', 'm', 'm', 'm', 'm', 'm', 'm', 'm', 'E', 'C', 'm', 'm', 'm', 'E', 'B', 'm', 'm', 'C', 'm', 'm', 'm', 'm', 'm', 'm', 'A', 'm', 'm', 'm', 'C', 'm', 'm', 'C', 'C', 'm', 'm', 'E', 'D', 'm', 'm', 'E', 'm', 'E', 'm', 'm', 'm', 'm', 'm', 'm', 'm', 'm', 'm', 'm', 'D', 'm', 'A', 'm', 'm', 'm', 'm', 'm', 'm', 'm', 'm', 'B', 'm', 'C', 'B', 'm', 'm', 'm', 'm', 'C', 'm', 'm', 'm', 'D', 'm', 'C', 'm', 'm', 'm', 'm', 'm', 'B', 'C', 'm', 'm', 'm', 'm', 'm', 'm', 'E', 'm', 'm', 'D', 'F', 'm', 'm', 'm', 'B', 'm', 'm', 'B', 'm', 'm', 'm', 'C', 'm', 'm', 'm', 'm', 'm', 'm', 'm', 'm', 'B', 'm', 'm', 'B', 'B', 'm', 'm', 'm', 'C', 'm', 'm', 'm', 'm', 'm', 'C', 'm', 'm', 'm', 'm', 'm', 'A', 'm', 'E', 'm', 'm', 'm', 'm', 'm', 'm', 'm', 'm', 'm', 'm', 'm', 'm', 'C', 'E', 'm', 'm', 'm', 'm', 'E', 'm', 'm', 'm', 'C', 'm', 'A', 'm', 'E', 'm', 'B', 'm', 'm', 'm', 'D', 'm', 'm', 'm', 'm', 'm', 'm', 'm', 'A', 'm', 'm', 'm', 'm', 'm', 'm', 'm', 'm', 'm', 'C', 'm', 'm', 'm', 'm', 'm', 'm', 'm', 'm', 'F', 'm', 'm', 'D', 'm', 'm', 'm', 'D', 'm', 'D', 'm', 'm', 'A', 'm', 'B', 'm', 'm', 'm', 'm', 'm', 'm', 'm', 'm', 'B', 'm', 'm', 'm', 'D', 'm', 'A', 'm', 'm', 'm', 'm', 'm', 'm', 'm', 'm', 'm', 'm', 'm', 'D', 'm', 'm', 'E', 'm', 'm', 'm', 'm', 'm', 'm', 'C', 'm', 'B', 'm', 'm', 'm', 'm', 'm', 'm', 'm', 'B', 'm', 'D', 'm', 'm', 'm', 'm', 'm', 'm', 'm', 'B', 'B', 'm', 'm', 'm', 'm', 'm', 'm', 'm', 'C', 'F', 'C', 'E', 'm', 'm', 'm', 'm', 'm', 'E', 'm', 'm', 'C', 'C', 'C', 'm', 'm', 'F', 'C', 'E', 'm', 'm', 'm', 'm', 'm', 'm', 'E', 'm', 'm', 'm', 'm', 'm', 'B', 'm', 'm', 'm', 'm', 'm', 'm', 'B', 'm', 'm', 'D', 'C', 'B', 'm', 'm', 'B', 'm', 'm', 'D', 'm', 'm', 'E', 'm', 'm', 'm', 'm', 'm', 'm', 'm', 'B', 'm', 'm', 'm', 'B', 'm', 'D', 'm', 'm', 'm', 'm', 'm', 'm', 'E', 'm', 'm', 'm', 'F', 'm', 'm', 'B', 'm', 'B', 'D', 'm', 'm', 'm', 'm', 'm', 'm', 'B', 'm', 'm', 'm', 'm', 'm', 'm', 'D', 'm', 'm', 'm', 'm', 'm', 'B', 'm', 'm', 'm', 'A', 'm', 'm', 'E', 'm', 'm', 'm', 'm', 'm', 'B', 'm', 'm', 'm', 'm', 'B', 'm', 'm', 'E', 'm', 'm', 'm', 'm', 'm', 'B', 'm', 'm', 'm', 'm', 'm', 'E', 'm', 'm', 'm', 'C', 'm', 'm', 'm', 'm', 'm', 'm', 'm', 'm', 'm', 'C', 'm', 'm', 'm', 'D', 'm', 'm', 'm', 'E', 'm', 'm', 'm', 'm', 'D', 'm', 'm', 'm', 'm', 'A', 'm', 'm', 'm', 'D', 'B', 'm', 'm', 'm', 'm', 'm', 'm', 'C', 'm', 'm', 'm', 'm', 'm', 'm', 'm', 'B', 'm', 'C', 'm']\n"
     ]
    }
   ],
   "source": [
    "print([i[0] for i in titanic.Cabin.values])\n"
   ]
  },
  {
   "cell_type": "code",
   "execution_count": 72,
   "metadata": {},
   "outputs": [
    {
     "data": {
      "text/plain": [
       "'missing'"
      ]
     },
     "execution_count": 72,
     "metadata": {},
     "output_type": "execute_result"
    }
   ],
   "source": [
    "titanic.Cabin.values[0]"
   ]
  },
  {
   "cell_type": "code",
   "execution_count": 80,
   "metadata": {},
   "outputs": [],
   "source": [
    "import numpy as np\n",
    "titanic['block']=np.where(titanic.Cabin.values!='missing',[i[0] for i in titanic.Cabin.values],'m')"
   ]
  },
  {
   "cell_type": "code",
   "execution_count": 81,
   "metadata": {
    "collapsed": true
   },
   "outputs": [
    {
     "data": {
      "text/html": [
       "<div>\n",
       "<style scoped>\n",
       "    .dataframe tbody tr th:only-of-type {\n",
       "        vertical-align: middle;\n",
       "    }\n",
       "\n",
       "    .dataframe tbody tr th {\n",
       "        vertical-align: top;\n",
       "    }\n",
       "\n",
       "    .dataframe thead th {\n",
       "        text-align: right;\n",
       "    }\n",
       "</style>\n",
       "<table border=\"1\" class=\"dataframe\">\n",
       "  <thead>\n",
       "    <tr style=\"text-align: right;\">\n",
       "      <th></th>\n",
       "      <th>Survived</th>\n",
       "      <th>Cabin</th>\n",
       "      <th>block</th>\n",
       "    </tr>\n",
       "  </thead>\n",
       "  <tbody>\n",
       "    <tr>\n",
       "      <th>0</th>\n",
       "      <td>0</td>\n",
       "      <td>missing</td>\n",
       "      <td>m</td>\n",
       "    </tr>\n",
       "    <tr>\n",
       "      <th>1</th>\n",
       "      <td>1</td>\n",
       "      <td>C85</td>\n",
       "      <td>C</td>\n",
       "    </tr>\n",
       "    <tr>\n",
       "      <th>2</th>\n",
       "      <td>1</td>\n",
       "      <td>missing</td>\n",
       "      <td>m</td>\n",
       "    </tr>\n",
       "    <tr>\n",
       "      <th>3</th>\n",
       "      <td>1</td>\n",
       "      <td>C123</td>\n",
       "      <td>C</td>\n",
       "    </tr>\n",
       "    <tr>\n",
       "      <th>4</th>\n",
       "      <td>0</td>\n",
       "      <td>missing</td>\n",
       "      <td>m</td>\n",
       "    </tr>\n",
       "    <tr>\n",
       "      <th>5</th>\n",
       "      <td>0</td>\n",
       "      <td>missing</td>\n",
       "      <td>m</td>\n",
       "    </tr>\n",
       "    <tr>\n",
       "      <th>6</th>\n",
       "      <td>0</td>\n",
       "      <td>E46</td>\n",
       "      <td>E</td>\n",
       "    </tr>\n",
       "    <tr>\n",
       "      <th>7</th>\n",
       "      <td>0</td>\n",
       "      <td>missing</td>\n",
       "      <td>m</td>\n",
       "    </tr>\n",
       "    <tr>\n",
       "      <th>8</th>\n",
       "      <td>1</td>\n",
       "      <td>missing</td>\n",
       "      <td>m</td>\n",
       "    </tr>\n",
       "    <tr>\n",
       "      <th>9</th>\n",
       "      <td>1</td>\n",
       "      <td>missing</td>\n",
       "      <td>m</td>\n",
       "    </tr>\n",
       "    <tr>\n",
       "      <th>10</th>\n",
       "      <td>1</td>\n",
       "      <td>G6</td>\n",
       "      <td>G</td>\n",
       "    </tr>\n",
       "    <tr>\n",
       "      <th>11</th>\n",
       "      <td>1</td>\n",
       "      <td>C103</td>\n",
       "      <td>C</td>\n",
       "    </tr>\n",
       "    <tr>\n",
       "      <th>12</th>\n",
       "      <td>0</td>\n",
       "      <td>missing</td>\n",
       "      <td>m</td>\n",
       "    </tr>\n",
       "    <tr>\n",
       "      <th>13</th>\n",
       "      <td>0</td>\n",
       "      <td>missing</td>\n",
       "      <td>m</td>\n",
       "    </tr>\n",
       "    <tr>\n",
       "      <th>14</th>\n",
       "      <td>0</td>\n",
       "      <td>missing</td>\n",
       "      <td>m</td>\n",
       "    </tr>\n",
       "    <tr>\n",
       "      <th>15</th>\n",
       "      <td>1</td>\n",
       "      <td>missing</td>\n",
       "      <td>m</td>\n",
       "    </tr>\n",
       "    <tr>\n",
       "      <th>16</th>\n",
       "      <td>0</td>\n",
       "      <td>missing</td>\n",
       "      <td>m</td>\n",
       "    </tr>\n",
       "    <tr>\n",
       "      <th>17</th>\n",
       "      <td>1</td>\n",
       "      <td>missing</td>\n",
       "      <td>m</td>\n",
       "    </tr>\n",
       "    <tr>\n",
       "      <th>18</th>\n",
       "      <td>0</td>\n",
       "      <td>missing</td>\n",
       "      <td>m</td>\n",
       "    </tr>\n",
       "    <tr>\n",
       "      <th>19</th>\n",
       "      <td>1</td>\n",
       "      <td>missing</td>\n",
       "      <td>m</td>\n",
       "    </tr>\n",
       "  </tbody>\n",
       "</table>\n",
       "</div>"
      ],
      "text/plain": [
       "    Survived    Cabin block\n",
       "0          0  missing     m\n",
       "1          1      C85     C\n",
       "2          1  missing     m\n",
       "3          1     C123     C\n",
       "4          0  missing     m\n",
       "5          0  missing     m\n",
       "6          0      E46     E\n",
       "7          0  missing     m\n",
       "8          1  missing     m\n",
       "9          1  missing     m\n",
       "10         1       G6     G\n",
       "11         1     C103     C\n",
       "12         0  missing     m\n",
       "13         0  missing     m\n",
       "14         0  missing     m\n",
       "15         1  missing     m\n",
       "16         0  missing     m\n",
       "17         1  missing     m\n",
       "18         0  missing     m\n",
       "19         1  missing     m"
      ]
     },
     "execution_count": 81,
     "metadata": {},
     "output_type": "execute_result"
    }
   ],
   "source": [
    "titanic.head(20)"
   ]
  },
  {
   "cell_type": "code",
   "execution_count": 88,
   "metadata": {},
   "outputs": [],
   "source": [
    "ordinal=titanic.groupby('block')['Survived'].mean().sort_values().index"
   ]
  },
  {
   "cell_type": "code",
   "execution_count": 89,
   "metadata": {},
   "outputs": [],
   "source": [
    "ordinal_dict={k:i for i,k in enumerate(ordinal,0)}"
   ]
  },
  {
   "cell_type": "code",
   "execution_count": 90,
   "metadata": {},
   "outputs": [
    {
     "data": {
      "text/plain": [
       "{'T': 0, 'm': 1, 'A': 2, 'G': 3, 'C': 4, 'F': 5, 'B': 6, 'E': 7, 'D': 8}"
      ]
     },
     "execution_count": 90,
     "metadata": {},
     "output_type": "execute_result"
    }
   ],
   "source": [
    "ordinal_dict"
   ]
  },
  {
   "cell_type": "code",
   "execution_count": 92,
   "metadata": {},
   "outputs": [
    {
     "data": {
      "text/html": [
       "<div>\n",
       "<style scoped>\n",
       "    .dataframe tbody tr th:only-of-type {\n",
       "        vertical-align: middle;\n",
       "    }\n",
       "\n",
       "    .dataframe tbody tr th {\n",
       "        vertical-align: top;\n",
       "    }\n",
       "\n",
       "    .dataframe thead th {\n",
       "        text-align: right;\n",
       "    }\n",
       "</style>\n",
       "<table border=\"1\" class=\"dataframe\">\n",
       "  <thead>\n",
       "    <tr style=\"text-align: right;\">\n",
       "      <th></th>\n",
       "      <th>Survived</th>\n",
       "      <th>block</th>\n",
       "    </tr>\n",
       "  </thead>\n",
       "  <tbody>\n",
       "    <tr>\n",
       "      <th>0</th>\n",
       "      <td>0</td>\n",
       "      <td>m</td>\n",
       "    </tr>\n",
       "    <tr>\n",
       "      <th>1</th>\n",
       "      <td>1</td>\n",
       "      <td>C</td>\n",
       "    </tr>\n",
       "    <tr>\n",
       "      <th>2</th>\n",
       "      <td>1</td>\n",
       "      <td>m</td>\n",
       "    </tr>\n",
       "    <tr>\n",
       "      <th>3</th>\n",
       "      <td>1</td>\n",
       "      <td>C</td>\n",
       "    </tr>\n",
       "    <tr>\n",
       "      <th>4</th>\n",
       "      <td>0</td>\n",
       "      <td>m</td>\n",
       "    </tr>\n",
       "  </tbody>\n",
       "</table>\n",
       "</div>"
      ],
      "text/plain": [
       "   Survived block\n",
       "0         0     m\n",
       "1         1     C\n",
       "2         1     m\n",
       "3         1     C\n",
       "4         0     m"
      ]
     },
     "execution_count": 92,
     "metadata": {},
     "output_type": "execute_result"
    }
   ],
   "source": [
    "titanic.drop('Cabin',axis=1,inplace=True)\n",
    "titanic.head()"
   ]
  },
  {
   "cell_type": "code",
   "execution_count": 94,
   "metadata": {},
   "outputs": [],
   "source": [
    "titanic['ordinal']=titanic['block'].map(ordinal_dict)"
   ]
  },
  {
   "cell_type": "code",
   "execution_count": 95,
   "metadata": {},
   "outputs": [
    {
     "data": {
      "text/html": [
       "<div>\n",
       "<style scoped>\n",
       "    .dataframe tbody tr th:only-of-type {\n",
       "        vertical-align: middle;\n",
       "    }\n",
       "\n",
       "    .dataframe tbody tr th {\n",
       "        vertical-align: top;\n",
       "    }\n",
       "\n",
       "    .dataframe thead th {\n",
       "        text-align: right;\n",
       "    }\n",
       "</style>\n",
       "<table border=\"1\" class=\"dataframe\">\n",
       "  <thead>\n",
       "    <tr style=\"text-align: right;\">\n",
       "      <th></th>\n",
       "      <th>Survived</th>\n",
       "      <th>block</th>\n",
       "      <th>ordinal</th>\n",
       "    </tr>\n",
       "  </thead>\n",
       "  <tbody>\n",
       "    <tr>\n",
       "      <th>0</th>\n",
       "      <td>0</td>\n",
       "      <td>m</td>\n",
       "      <td>1</td>\n",
       "    </tr>\n",
       "    <tr>\n",
       "      <th>1</th>\n",
       "      <td>1</td>\n",
       "      <td>C</td>\n",
       "      <td>4</td>\n",
       "    </tr>\n",
       "  </tbody>\n",
       "</table>\n",
       "</div>"
      ],
      "text/plain": [
       "   Survived block  ordinal\n",
       "0         0     m        1\n",
       "1         1     C        4"
      ]
     },
     "execution_count": 95,
     "metadata": {},
     "output_type": "execute_result"
    }
   ],
   "source": [
    "titanic.head(2)"
   ]
  },
  {
   "cell_type": "code",
   "execution_count": 96,
   "metadata": {},
   "outputs": [
    {
     "data": {
      "text/html": [
       "<div>\n",
       "<style scoped>\n",
       "    .dataframe tbody tr th:only-of-type {\n",
       "        vertical-align: middle;\n",
       "    }\n",
       "\n",
       "    .dataframe tbody tr th {\n",
       "        vertical-align: top;\n",
       "    }\n",
       "\n",
       "    .dataframe thead th {\n",
       "        text-align: right;\n",
       "    }\n",
       "</style>\n",
       "<table border=\"1\" class=\"dataframe\">\n",
       "  <thead>\n",
       "    <tr style=\"text-align: right;\">\n",
       "      <th></th>\n",
       "      <th>Survived</th>\n",
       "      <th>ordinal</th>\n",
       "    </tr>\n",
       "  </thead>\n",
       "  <tbody>\n",
       "    <tr>\n",
       "      <th>0</th>\n",
       "      <td>0</td>\n",
       "      <td>1</td>\n",
       "    </tr>\n",
       "    <tr>\n",
       "      <th>1</th>\n",
       "      <td>1</td>\n",
       "      <td>4</td>\n",
       "    </tr>\n",
       "    <tr>\n",
       "      <th>2</th>\n",
       "      <td>1</td>\n",
       "      <td>1</td>\n",
       "    </tr>\n",
       "    <tr>\n",
       "      <th>3</th>\n",
       "      <td>1</td>\n",
       "      <td>4</td>\n",
       "    </tr>\n",
       "    <tr>\n",
       "      <th>4</th>\n",
       "      <td>0</td>\n",
       "      <td>1</td>\n",
       "    </tr>\n",
       "  </tbody>\n",
       "</table>\n",
       "</div>"
      ],
      "text/plain": [
       "   Survived  ordinal\n",
       "0         0        1\n",
       "1         1        4\n",
       "2         1        1\n",
       "3         1        4\n",
       "4         0        1"
      ]
     },
     "execution_count": 96,
     "metadata": {},
     "output_type": "execute_result"
    }
   ],
   "source": [
    "titanic.drop('block',axis=1,inplace=True)\n",
    "titanic.head()"
   ]
  },
  {
   "cell_type": "code",
   "execution_count": null,
   "metadata": {},
   "outputs": [],
   "source": []
  },
  {
   "cell_type": "code",
   "execution_count": null,
   "metadata": {},
   "outputs": [],
   "source": []
  },
  {
   "cell_type": "code",
   "execution_count": null,
   "metadata": {},
   "outputs": [],
   "source": []
  }
 ],
 "metadata": {
  "kernelspec": {
   "display_name": "Python 3",
   "language": "python",
   "name": "python3"
  },
  "language_info": {
   "codemirror_mode": {
    "name": "ipython",
    "version": 3
   },
   "file_extension": ".py",
   "mimetype": "text/x-python",
   "name": "python",
   "nbconvert_exporter": "python",
   "pygments_lexer": "ipython3",
   "version": "3.7.6"
  }
 },
 "nbformat": 4,
 "nbformat_minor": 4
}
